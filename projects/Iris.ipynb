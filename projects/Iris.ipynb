{
 "cells": [
  {
   "cell_type": "markdown",
   "metadata": {},
   "source": [
    "# Understanding the Iris Dataset\n",
    "\n",
    "This is perhaps the best known database to be found in the pattern recognition literature. Fisher's paper is a classic in the field and is referenced frequently to this day. (See Duda & Hart, for example.) The data set contains 3 classes of 50 instances each, where each class refers to a type of iris plant. \n",
    "\n",
    "https://en.wikipedia.org/wiki/Iris_flower_data_set"
   ]
  },
  {
   "cell_type": "code",
   "execution_count": 67,
   "metadata": {},
   "outputs": [],
   "source": [
    "import csv\n",
    "import numpy as np \n",
    "import pandas as pd \n",
    "import matplotlib.pyplot as plt #plotting\n",
    "import seaborn as sns #plotting\n",
    "import sklearn as skl\n",
    "from sklearn.cross_validation import train_test_split #testing & training datasets\n",
    "from sklearn.preprocessing import StandardScaler #standardize data\n",
    "from sklearn.tree import DecisionTreeClassifier\n",
    "from sklearn.linear_model import LogisticRegression\n",
    "from sklearn.neighbors import KNeighborsClassifier\n",
    "from sklearn.ensemble import RandomForestClassifier\n",
    "from sklearn.svm import LinearSVC"
   ]
  },
  {
   "cell_type": "markdown",
   "metadata": {},
   "source": [
    "### Read in the data & general stats\n",
    "\n",
    "The first step in any analysis is to read in the data and get a feel for what you will be working with. Here, we run a simple descriptive statistic code to understand the data at a high-level. From there, we will check the metadata & quality, as well as plotting the data to see how the variables interact with eachother.  "
   ]
  },
  {
   "cell_type": "code",
   "execution_count": 56,
   "metadata": {},
   "outputs": [
    {
     "data": {
      "text/html": [
       "<div>\n",
       "<style scoped>\n",
       "    .dataframe tbody tr th:only-of-type {\n",
       "        vertical-align: middle;\n",
       "    }\n",
       "\n",
       "    .dataframe tbody tr th {\n",
       "        vertical-align: top;\n",
       "    }\n",
       "\n",
       "    .dataframe thead th {\n",
       "        text-align: right;\n",
       "    }\n",
       "</style>\n",
       "<table border=\"1\" class=\"dataframe\">\n",
       "  <thead>\n",
       "    <tr style=\"text-align: right;\">\n",
       "      <th></th>\n",
       "      <th>Id</th>\n",
       "      <th>SepalLengthCm</th>\n",
       "      <th>SepalWidthCm</th>\n",
       "      <th>PetalLengthCm</th>\n",
       "      <th>PetalWidthCm</th>\n",
       "      <th>Species</th>\n",
       "    </tr>\n",
       "  </thead>\n",
       "  <tbody>\n",
       "    <tr>\n",
       "      <th>0</th>\n",
       "      <td>1</td>\n",
       "      <td>5.1</td>\n",
       "      <td>3.5</td>\n",
       "      <td>1.4</td>\n",
       "      <td>0.2</td>\n",
       "      <td>Iris-setosa</td>\n",
       "    </tr>\n",
       "    <tr>\n",
       "      <th>1</th>\n",
       "      <td>2</td>\n",
       "      <td>4.9</td>\n",
       "      <td>3.0</td>\n",
       "      <td>1.4</td>\n",
       "      <td>0.2</td>\n",
       "      <td>Iris-setosa</td>\n",
       "    </tr>\n",
       "    <tr>\n",
       "      <th>2</th>\n",
       "      <td>3</td>\n",
       "      <td>4.7</td>\n",
       "      <td>3.2</td>\n",
       "      <td>1.3</td>\n",
       "      <td>0.2</td>\n",
       "      <td>Iris-setosa</td>\n",
       "    </tr>\n",
       "    <tr>\n",
       "      <th>3</th>\n",
       "      <td>4</td>\n",
       "      <td>4.6</td>\n",
       "      <td>3.1</td>\n",
       "      <td>1.5</td>\n",
       "      <td>0.2</td>\n",
       "      <td>Iris-setosa</td>\n",
       "    </tr>\n",
       "    <tr>\n",
       "      <th>4</th>\n",
       "      <td>5</td>\n",
       "      <td>5.0</td>\n",
       "      <td>3.6</td>\n",
       "      <td>1.4</td>\n",
       "      <td>0.2</td>\n",
       "      <td>Iris-setosa</td>\n",
       "    </tr>\n",
       "  </tbody>\n",
       "</table>\n",
       "</div>"
      ],
      "text/plain": [
       "   Id  SepalLengthCm  SepalWidthCm  PetalLengthCm  PetalWidthCm      Species\n",
       "0   1            5.1           3.5            1.4           0.2  Iris-setosa\n",
       "1   2            4.9           3.0            1.4           0.2  Iris-setosa\n",
       "2   3            4.7           3.2            1.3           0.2  Iris-setosa\n",
       "3   4            4.6           3.1            1.5           0.2  Iris-setosa\n",
       "4   5            5.0           3.6            1.4           0.2  Iris-setosa"
      ]
     },
     "execution_count": 56,
     "metadata": {},
     "output_type": "execute_result"
    }
   ],
   "source": [
    "iris = pd.read_csv('Iris.csv')\n",
    "iris.head() #look at first 5 values"
   ]
  },
  {
   "cell_type": "markdown",
   "metadata": {},
   "source": [
    "### Check metadata & data quality"
   ]
  },
  {
   "cell_type": "code",
   "execution_count": 74,
   "metadata": {},
   "outputs": [
    {
     "name": "stdout",
     "output_type": "stream",
     "text": [
      "<class 'pandas.core.frame.DataFrame'>\n",
      "RangeIndex: 150 entries, 0 to 149\n",
      "Data columns (total 6 columns):\n",
      "Id               150 non-null int64\n",
      "SepalLengthCm    150 non-null float64\n",
      "SepalWidthCm     150 non-null float64\n",
      "PetalLengthCm    150 non-null float64\n",
      "PetalWidthCm     150 non-null float64\n",
      "Species          150 non-null object\n",
      "dtypes: float64(4), int64(1), object(1)\n",
      "memory usage: 7.1+ KB\n"
     ]
    }
   ],
   "source": [
    "iris.info() #check contents of data and data types"
   ]
  },
  {
   "cell_type": "code",
   "execution_count": 73,
   "metadata": {},
   "outputs": [
    {
     "data": {
      "text/html": [
       "<div>\n",
       "<style scoped>\n",
       "    .dataframe tbody tr th:only-of-type {\n",
       "        vertical-align: middle;\n",
       "    }\n",
       "\n",
       "    .dataframe tbody tr th {\n",
       "        vertical-align: top;\n",
       "    }\n",
       "\n",
       "    .dataframe thead th {\n",
       "        text-align: right;\n",
       "    }\n",
       "</style>\n",
       "<table border=\"1\" class=\"dataframe\">\n",
       "  <thead>\n",
       "    <tr style=\"text-align: right;\">\n",
       "      <th></th>\n",
       "      <th>Id</th>\n",
       "      <th>SepalLengthCm</th>\n",
       "      <th>SepalWidthCm</th>\n",
       "      <th>PetalLengthCm</th>\n",
       "      <th>PetalWidthCm</th>\n",
       "    </tr>\n",
       "    <tr>\n",
       "      <th>Species</th>\n",
       "      <th></th>\n",
       "      <th></th>\n",
       "      <th></th>\n",
       "      <th></th>\n",
       "      <th></th>\n",
       "    </tr>\n",
       "  </thead>\n",
       "  <tbody>\n",
       "    <tr>\n",
       "      <th>Iris-setosa</th>\n",
       "      <td>50</td>\n",
       "      <td>50</td>\n",
       "      <td>50</td>\n",
       "      <td>50</td>\n",
       "      <td>50</td>\n",
       "    </tr>\n",
       "    <tr>\n",
       "      <th>Iris-versicolor</th>\n",
       "      <td>50</td>\n",
       "      <td>50</td>\n",
       "      <td>50</td>\n",
       "      <td>50</td>\n",
       "      <td>50</td>\n",
       "    </tr>\n",
       "    <tr>\n",
       "      <th>Iris-virginica</th>\n",
       "      <td>50</td>\n",
       "      <td>50</td>\n",
       "      <td>50</td>\n",
       "      <td>50</td>\n",
       "      <td>50</td>\n",
       "    </tr>\n",
       "  </tbody>\n",
       "</table>\n",
       "</div>"
      ],
      "text/plain": [
       "                 Id  SepalLengthCm  SepalWidthCm  PetalLengthCm  PetalWidthCm\n",
       "Species                                                                      \n",
       "Iris-setosa      50             50            50             50            50\n",
       "Iris-versicolor  50             50            50             50            50\n",
       "Iris-virginica   50             50            50             50            50"
      ]
     },
     "execution_count": 73,
     "metadata": {},
     "output_type": "execute_result"
    }
   ],
   "source": [
    "iris.groupby('Species').count() #Group by species & count to ensure all species have the same numbers"
   ]
  },
  {
   "cell_type": "markdown",
   "metadata": {},
   "source": [
    "### Simple Descriptive Statistics"
   ]
  },
  {
   "cell_type": "code",
   "execution_count": 4,
   "metadata": {},
   "outputs": [
    {
     "data": {
      "text/html": [
       "<div>\n",
       "<style scoped>\n",
       "    .dataframe tbody tr th:only-of-type {\n",
       "        vertical-align: middle;\n",
       "    }\n",
       "\n",
       "    .dataframe tbody tr th {\n",
       "        vertical-align: top;\n",
       "    }\n",
       "\n",
       "    .dataframe thead th {\n",
       "        text-align: right;\n",
       "    }\n",
       "</style>\n",
       "<table border=\"1\" class=\"dataframe\">\n",
       "  <thead>\n",
       "    <tr style=\"text-align: right;\">\n",
       "      <th></th>\n",
       "      <th>Id</th>\n",
       "      <th>SepalLengthCm</th>\n",
       "      <th>SepalWidthCm</th>\n",
       "      <th>PetalLengthCm</th>\n",
       "      <th>PetalWidthCm</th>\n",
       "    </tr>\n",
       "  </thead>\n",
       "  <tbody>\n",
       "    <tr>\n",
       "      <th>count</th>\n",
       "      <td>150.000000</td>\n",
       "      <td>150.000000</td>\n",
       "      <td>150.000000</td>\n",
       "      <td>150.000000</td>\n",
       "      <td>150.000000</td>\n",
       "    </tr>\n",
       "    <tr>\n",
       "      <th>mean</th>\n",
       "      <td>75.500000</td>\n",
       "      <td>5.843333</td>\n",
       "      <td>3.054000</td>\n",
       "      <td>3.758667</td>\n",
       "      <td>1.198667</td>\n",
       "    </tr>\n",
       "    <tr>\n",
       "      <th>std</th>\n",
       "      <td>43.445368</td>\n",
       "      <td>0.828066</td>\n",
       "      <td>0.433594</td>\n",
       "      <td>1.764420</td>\n",
       "      <td>0.763161</td>\n",
       "    </tr>\n",
       "    <tr>\n",
       "      <th>min</th>\n",
       "      <td>1.000000</td>\n",
       "      <td>4.300000</td>\n",
       "      <td>2.000000</td>\n",
       "      <td>1.000000</td>\n",
       "      <td>0.100000</td>\n",
       "    </tr>\n",
       "    <tr>\n",
       "      <th>25%</th>\n",
       "      <td>38.250000</td>\n",
       "      <td>5.100000</td>\n",
       "      <td>2.800000</td>\n",
       "      <td>1.600000</td>\n",
       "      <td>0.300000</td>\n",
       "    </tr>\n",
       "    <tr>\n",
       "      <th>50%</th>\n",
       "      <td>75.500000</td>\n",
       "      <td>5.800000</td>\n",
       "      <td>3.000000</td>\n",
       "      <td>4.350000</td>\n",
       "      <td>1.300000</td>\n",
       "    </tr>\n",
       "    <tr>\n",
       "      <th>75%</th>\n",
       "      <td>112.750000</td>\n",
       "      <td>6.400000</td>\n",
       "      <td>3.300000</td>\n",
       "      <td>5.100000</td>\n",
       "      <td>1.800000</td>\n",
       "    </tr>\n",
       "    <tr>\n",
       "      <th>max</th>\n",
       "      <td>150.000000</td>\n",
       "      <td>7.900000</td>\n",
       "      <td>4.400000</td>\n",
       "      <td>6.900000</td>\n",
       "      <td>2.500000</td>\n",
       "    </tr>\n",
       "  </tbody>\n",
       "</table>\n",
       "</div>"
      ],
      "text/plain": [
       "               Id  SepalLengthCm  SepalWidthCm  PetalLengthCm  PetalWidthCm\n",
       "count  150.000000     150.000000    150.000000     150.000000    150.000000\n",
       "mean    75.500000       5.843333      3.054000       3.758667      1.198667\n",
       "std     43.445368       0.828066      0.433594       1.764420      0.763161\n",
       "min      1.000000       4.300000      2.000000       1.000000      0.100000\n",
       "25%     38.250000       5.100000      2.800000       1.600000      0.300000\n",
       "50%     75.500000       5.800000      3.000000       4.350000      1.300000\n",
       "75%    112.750000       6.400000      3.300000       5.100000      1.800000\n",
       "max    150.000000       7.900000      4.400000       6.900000      2.500000"
      ]
     },
     "execution_count": 4,
     "metadata": {},
     "output_type": "execute_result"
    }
   ],
   "source": [
    "iris.describe() #describe data in Pandas"
   ]
  },
  {
   "cell_type": "markdown",
   "metadata": {},
   "source": [
    "### Plot the data"
   ]
  },
  {
   "cell_type": "code",
   "execution_count": 6,
   "metadata": {},
   "outputs": [
    {
     "data": {
      "text/plain": [
       "<seaborn.axisgrid.PairGrid at 0x1a1b168fd0>"
      ]
     },
     "execution_count": 6,
     "metadata": {},
     "output_type": "execute_result"
    },
    {
     "data": {
      "image/png": "[encoded data removed]",
      "text/plain": [
       "<matplotlib.figure.Figure at 0x1a1b7baa58>"
      ]
     },
     "metadata": {},
     "output_type": "display_data"
    }
   ],
   "source": [
    "sns.pairplot(iris.drop(\"Id\", axis=1), hue=\"Species\", size=3) #Drop the ID Column"
   ]
  },
  {
   "cell_type": "markdown",
   "metadata": {},
   "source": [
    "### Initial Analysis\n",
    "\n",
    "Note that I am only looking at the scatter graphs in the lower diagonal of the chart. The upper diagonial is just an inverted graph and gives us a different view of the data. \n",
    "\n",
    "We can easily distinguish Iris-setosa from the other species in almost every diagram. Specifically SepalWidthCM vs SepalLengthCM and PetalWidthCM vs PetalLengthCM. \n",
    "\n",
    "We can distinguish Iris-versicolor from Iris-virginica in the graphs. However, there is some overlap between the two species on all of the charts. Therefore, we should conduct further analysis to improve our confidence of distinguishing between the species. "
   ]
  },
  {
   "cell_type": "markdown",
   "metadata": {},
   "source": [
    "# Various Machine Learning Techniques\n",
    "\n",
    "In these next steps, we are going to separate the sepal & petal data so we can begin to isolate the variables and begin testing & training our machine learning methods. \n",
    "\n",
    "As always, there is no one-size-fits-all machine learning method that works best for all cases. Therefore, we are going to walk through a variety of basic methods and determine which one would be the best fit for predicting the class of an Iris flower based on Petal & Sepal characteristics.  "
   ]
  },
  {
   "cell_type": "code",
   "execution_count": 75,
   "metadata": {},
   "outputs": [],
   "source": [
    "# Create arrays for both petal & sepal\n",
    "petal = np.array(iris[[\"PetalLengthCm\",\"PetalWidthCm\"]])\n",
    "sepal = np.array(iris[[\"SepalLengthCm\",\"SepalWidthCm\"]])\n",
    "\n",
    "keys = {'Iris-setosa':0,'Iris-versicolor':1,'Iris-virginica':2} #Creating unique keys for iris classes\n",
    "classes = iris['Species'].map(keys) #mapping those keys to the qualitative values"
   ]
  },
  {
   "cell_type": "code",
   "execution_count": 49,
   "metadata": {},
   "outputs": [],
   "source": [
    "# Creating testing & training datasets\n",
    "#random state => allows us to replicate the results\n",
    "#test_size = 0.20 because we have 2 train and 2 test datasets => 80% of data. \n",
    "#need the final 0.20 after testing & training data have been used\n",
    "\n",
    "x_train_S, x_test_S, y_train_S, y_test_S = train_test_split(sepal,classes,test_size=0.2,random_state=33)\n",
    "x_train_P, x_test_P, y_train_P, y_test_P = train_test_split(petal,classes,test_size=0.2,random_state=33)"
   ]
  },
  {
   "cell_type": "code",
   "execution_count": 80,
   "metadata": {},
   "outputs": [
    {
     "name": "stdout",
     "output_type": "stream",
     "text": [
      "Sepal\n",
      "[[-0.24630602 -0.75743035]\n",
      " [ 1.05418975  0.11234613]]\n",
      "\n",
      "Petal\n",
      "[[0.30129184 0.18734818]\n",
      " [0.58331228 0.45340476]]\n"
     ]
    }
   ],
   "source": [
    "# Standardize features by removing the mean and scaling to unit variance\n",
    "# Standardization of a dataset is a common requirement for many machine learning estimators: \n",
    "#they might behave badly if the individual feature do not more or less look like standard normally \n",
    "#distributed data. \n",
    "# http://scikit-learn.org/stable/modules/generated/sklearn.preprocessing.StandardScaler.html\n",
    "#Esentially, we don't want our machine learning method to skew the results. So, we assign a \n",
    "#normal distribution using the existing data\n",
    "\n",
    "scaler = StandardScaler()\n",
    "\n",
    "scaler.fit(x_train_S)                         # Compute the mean and std to be used for later scaling.\n",
    "x_train_std_S = scaler.transform(x_train_S)   # Fit to data, then transform it.\n",
    "x_test_std_S = scaler.transform(x_test_S)     # Fit to data, then transform it.\n",
    "print(\"Sepal\\n\" +str(x_train_std_S[:2]))\n",
    "\n",
    "scaler.fit(x_train_P)                         # Compute the mean and std to be used for later scaling.\n",
    "x_train_std_P = scaler.transform(x_train_P)   # Fit to data, then transform it.\n",
    "x_test_std_P = scaler.transform(x_test_P)     # Fit to data, then transform it.\n",
    "print(\"\\nPetal\\n\" +str(x_train_std_P[:2]))"
   ]
  },
  {
   "cell_type": "markdown",
   "metadata": {},
   "source": [
    "### Decision Tree Classifier\n",
    "The goal is to create a model that predicts the value of a target variable by learning simple decision rules inferred from the data features. \n",
    "\n",
    "Watch out for overfitting. In this case, a max depth of 4 branches should not overfit the model. Also, we have 2 clusters that have many overlapping features (Iris-versicolor from Iris-virginica). Therefore, the decision tree can easily take the wrong path and give us an inaccurate solution. "
   ]
  },
  {
   "cell_type": "code",
   "execution_count": 60,
   "metadata": {},
   "outputs": [
    {
     "name": "stdout",
     "output_type": "stream",
     "text": [
      "Training Accuracy Sepal = 0.85\n",
      "Testing  Accuracy Sepal = 0.6333333333333333\n",
      "\n",
      "Training Accuracy Petal = 0.9833333333333333\n",
      "Testing  Accuracy Petal = 0.9\n"
     ]
    }
   ],
   "source": [
    "model = DecisionTreeClassifier(criterion='gini',max_depth=4,presort=True)\n",
    "model.fit(x_train_std_S,y_train_S)\n",
    "print('Training Accuracy Sepal = {}'.format(model.score(x_train_std_S, y_train_S)))\n",
    "print('Testing  Accuracy Sepal = {}'.format(model.score(x_test_std_S, y_test_S)))\n",
    "\n",
    "model.fit(x_train_std_P,y_train_P)\n",
    "print('\\nTraining Accuracy Petal = {}'.format(model.score(x_train_std_P, y_train_P)))\n",
    "print('Testing  Accuracy Petal = {}'.format(model.score(x_test_std_P, y_test_P)))"
   ]
  },
  {
   "cell_type": "markdown",
   "metadata": {},
   "source": [
    "### Logistic Regression\n",
    "\n",
    "Attempts to minimize the residual sum of squares between the observed responses in the dataset, and the responses predicted by the linear approximation. Used to estimate the probability of a binary response based on one or more predictor variables. \n",
    "\n",
    "Watch out for multicolinearity. "
   ]
  },
  {
   "cell_type": "code",
   "execution_count": 63,
   "metadata": {},
   "outputs": [
    {
     "name": "stdout",
     "output_type": "stream",
     "text": [
      "Training Accuracy Sepal = 0.8166666666666667\n",
      "Testing  Accuracy Sepal = 0.6666666666666666\n",
      "\n",
      "Training Accuracy Petal = 0.95\n",
      "Testing  Accuracy Petal = 0.9\n"
     ]
    }
   ],
   "source": [
    "model = LogisticRegression()\n",
    "model.fit(x_train_std_S,y_train_S)\n",
    "print('Training Accuracy Sepal = {}'.format(model.score(x_train_std_S, y_train_S)))\n",
    "print('Testing  Accuracy Sepal = {}'.format(model.score(x_test_std_S, y_test_S)))\n",
    "\n",
    "model.fit(x_train_std_P,y_train_P)\n",
    "print('\\nTraining Accuracy Petal = {}'.format(model.score(x_train_std_P, y_train_P)))\n",
    "print('Testing  Accuracy Petal = {}'.format(model.score(x_test_std_P, y_test_P)))"
   ]
  },
  {
   "cell_type": "markdown",
   "metadata": {},
   "source": [
    "### K Neighbors\n",
    "\n",
    "Mostly used for classification problems, but can be used in regression as well. With regression, the model will use averages of the nearest neighbors. With classificaiton, the model will chose k number of the closest neighbors and determine which classification is most likely. Here, we will use this to help us determine the species of the flower. "
   ]
  },
  {
   "cell_type": "code",
   "execution_count": 65,
   "metadata": {},
   "outputs": [
    {
     "name": "stdout",
     "output_type": "stream",
     "text": [
      "Training Accuracy Sepal = 0.875\n",
      "Testing  Accuracy Sepal = 0.6\n",
      "\n",
      "Training Accuracy Petal = 0.975\n",
      "Testing  Accuracy Petal = 0.9666666666666667\n"
     ]
    }
   ],
   "source": [
    "model = KNeighborsClassifier(n_neighbors=3)\n",
    "model.fit(x_train_std_S,y_train_S)\n",
    "print('Training Accuracy Sepal = {}'.format(model.score(x_train_std_S, y_train_S)))\n",
    "print('Testing  Accuracy Sepal = {}'.format(model.score(x_test_std_S, y_test_S)))\n",
    "\n",
    "model.fit(x_train_std_P,y_train_P)\n",
    "print('\\nTraining Accuracy Petal = {}'.format(model.score(x_train_std_P, y_train_P)))\n",
    "print('Testing  Accuracy Petal = {}'.format(model.score(x_test_std_P, y_test_P)))"
   ]
  },
  {
   "cell_type": "markdown",
   "metadata": {},
   "source": [
    "### Random Forest\n",
    "\n",
    "Random Forest algorithm is a supervised classification algorithm. The difference between Random Forest algorithm and the decision tree algorithm is that in Random Forest, the processes of finding the root node and splitting the feature nodes will run randomly. \n",
    "\n",
    "Since this is based on decision trees, make sure you keep an eye on overfitting. We do not want too many branches in the decision tree. "
   ]
  },
  {
   "cell_type": "code",
   "execution_count": 66,
   "metadata": {},
   "outputs": [
    {
     "name": "stdout",
     "output_type": "stream",
     "text": [
      "Training Accuracy Sepal = 0.8\n",
      "Testing  Accuracy Sepal = 0.6666666666666666\n",
      "\n",
      "Training Accuracy Petal = 0.975\n",
      "Testing  Accuracy Petal = 0.9\n"
     ]
    }
   ],
   "source": [
    "model = RandomForestClassifier(max_depth=2)\n",
    "model.fit(x_train_std_S,y_train_S)\n",
    "print('Training Accuracy Sepal = {}'.format(model.score(x_train_std_S, y_train_S)))\n",
    "print('Testing  Accuracy Sepal = {}'.format(model.score(x_test_std_S, y_test_S)))\n",
    "\n",
    "model.fit(x_train_std_P,y_train_P)\n",
    "print('\\nTraining Accuracy Petal = {}'.format(model.score(x_train_std_P, y_train_P)))\n",
    "print('Testing  Accuracy Petal = {}'.format(model.score(x_test_std_P, y_test_P)))"
   ]
  },
  {
   "cell_type": "markdown",
   "metadata": {},
   "source": [
    "### Support Vector Machines\n",
    "\n",
    "SVM training algorithm builds a model that assigns new examples to one category or the other, making it a non-probabilistic binary linear classifier. Similar to the other machine learning methods, this can be used as a classifier or regression modeler. This is also great for outlier detection. "
   ]
  },
  {
   "cell_type": "code",
   "execution_count": 69,
   "metadata": {},
   "outputs": [
    {
     "name": "stdout",
     "output_type": "stream",
     "text": [
      "Training Accuracy Sepal = 0.8083333333333333\n",
      "Testing  Accuracy Sepal = 0.6666666666666666\n",
      "\n",
      "Training Accuracy Petal = 0.975\n",
      "Testing  Accuracy Petal = 0.9333333333333333\n"
     ]
    }
   ],
   "source": [
    "model = LinearSVC(C=10)\n",
    "model.fit(x_train_std_S,y_train_S)\n",
    "print('Training Accuracy Sepal = {}'.format(model.score(x_train_std_S, y_train_S)))\n",
    "print('Testing  Accuracy Sepal = {}'.format(model.score(x_test_std_S, y_test_S)))\n",
    "\n",
    "model.fit(x_train_std_P,y_train_P)\n",
    "print('\\nTraining Accuracy Petal = {}'.format(model.score(x_train_std_P, y_train_P)))\n",
    "print('Testing  Accuracy Petal = {}'.format(model.score(x_test_std_P, y_test_P)))"
   ]
  },
  {
   "cell_type": "markdown",
   "metadata": {},
   "source": [
    "# Conclusion"
   ]
  },
  {
   "cell_type": "markdown",
   "metadata": {},
   "source": [
    "With these Machine Learning methods, I would choose the K-Neighbors approach since its Testing & Training accuracy for both Petal and Sepal data is the highest. \n",
    "\n",
    "When we take a look at the graphs again, it makes intuitive sense that this would be the best model. Iris-setosa can be clearly identified and its data is visibly different than Iris-versicolor and Iris-virginica. Iris-versicolor and Iris-virginica are more difficult to distinguish because there is some overlap in both the sepal and petal characteristics. However, the overlap is on the edge of their respective max & mins from the dataset. Therefore, using the closest neighbors (data points on the graph) to help determine the species of flower makes a lot of sense in this case. \n",
    "\n",
    "We could also argue that we should remove Iris-setosa from the testing data because it's so easily distinguishable from the other species. Therefore, we could focus on the two species that are more difficult to distinguish and get more accurate results from our models. "
   ]
  },
  {
   "cell_type": "code",
   "execution_count": null,
   "metadata": {},
   "outputs": [],
   "source": []
  }
 ],
 "metadata": {
  "kernelspec": {
   "display_name": "Python 3",
   "language": "python",
   "name": "python3"
  },
  "language_info": {
   "codemirror_mode": {
    "name": "ipython",
    "version": 3
   },
   "file_extension": ".py",
   "mimetype": "text/x-python",
   "name": "python",
   "nbconvert_exporter": "python",
   "pygments_lexer": "ipython3",
   "version": "3.6.4"
  }
 },
 "nbformat": 4,
 "nbformat_minor": 2
}
